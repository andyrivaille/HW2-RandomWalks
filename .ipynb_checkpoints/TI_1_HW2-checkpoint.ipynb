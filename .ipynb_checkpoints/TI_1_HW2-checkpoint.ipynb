{
 "cells": [
  {
   "cell_type": "markdown",
   "metadata": {},
   "source": [
    "# Homework 2\n",
    "\n",
    "**Name:** Andrea Gonzalez Cruz\n",
    "\n",
    "**e-mail:** andrea.gcruz@alumnos.udg.mx"
   ]
  },
  {
   "cell_type": "markdown",
   "metadata": {},
   "source": [
    "# Modules\n",
    "In this section is necesary import/add the following modules for the next sections:\n",
    "1. Matplotlib (to provide interactive visualizations).\n",
    "2. Numpy/SciPy (to provide algorithms for optimization).\n",
    "3. Pandas (for data analysis).\n",
    "4. Plotly (an interactive open-source plotting library)."
   ]
  },
  {
   "cell_type": "code",
   "execution_count": 1,
   "metadata": {},
   "outputs": [],
   "source": [
    "# Load modules \n",
    "import matplotlib.pyplot as plt\n",
    "import numpy as np \n",
    "import pandas as pd\n",
    "import math\n",
    "\n",
    "from scipy.stats import wrapcauchy\n",
    "from scipy.stats import levy_stable\n",
    "from scipy.stats import exponweib\n",
    "\n",
    "import plotly.graph_objects as go"
   ]
  },
  {
   "cell_type": "markdown",
   "metadata": {},
   "source": [
    "### Activity 1: Correlated Random Walk - 1 Trajectory\n",
    "#### Instructions\n",
    "1. Select rotations from a Cauchy distribution (SciPy).\n",
    "2. Implement using Vec2d class.\n",
    "3. Keep trajectory in a numpy array.\n",
    "4. Visualize trayectory using Plotly - 2D projection"
   ]
  },
  {
   "cell_type": "code",
   "execution_count": null,
   "metadata": {},
   "outputs": [],
   "source": []
  },
  {
   "cell_type": "markdown",
   "metadata": {},
   "source": [
    "### Activity 2: Lévy Distribution - N different curves\n",
    "#### Instructions\n",
    "1. Plot al least the 4 different curves shown in the figure using Plotly.\n",
    "2. Each one of the curves corresponds to a different alpha value.\n",
    "3. Consider the following parameters: m = 3.0, β = 0."
   ]
  },
  {
   "cell_type": "code",
   "execution_count": null,
   "metadata": {},
   "outputs": [],
   "source": []
  },
  {
   "cell_type": "markdown",
   "metadata": {},
   "source": [
    "### Activity 3: Lévy Distribution - Histogram + Curve\n",
    "#### Instructions\n",
    "1. From a set of random values drawn from a Lévy stable distribution, obtain its histogram and compare it to the corresponding PDF curve.\n",
    "2. Visualize using matplotlib."
   ]
  },
  {
   "cell_type": "code",
   "execution_count": null,
   "metadata": {},
   "outputs": [],
   "source": []
  }
 ],
 "metadata": {
  "kernelspec": {
   "display_name": "leftenv",
   "language": "python",
   "name": "leftenv"
  },
  "language_info": {
   "codemirror_mode": {
    "name": "ipython",
    "version": 3
   },
   "file_extension": ".py",
   "mimetype": "text/x-python",
   "name": "python",
   "nbconvert_exporter": "python",
   "pygments_lexer": "ipython3",
   "version": "3.10.0"
  }
 },
 "nbformat": 4,
 "nbformat_minor": 4
}
